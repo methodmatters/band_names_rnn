{
 "cells": [
  {
   "cell_type": "markdown",
   "metadata": {},
   "source": [
    "# This notebook contains the code to reproduce the analysis presented in the blog post about generating band names with recurrent neural networks:\n",
    "\n",
    "# https://methodmatters.blogspot.com/2018/11/using-recurrent-neural-nets-to-generate.html\n",
    "\n",
    "## Note that, due to randomness inherent in the model training process, your results will not exactly match those displayed here or on the blog. The analysis presented below was re-generated using the original code; therefore, the results do not exactly match those described in the blog post."
   ]
  },
  {
   "cell_type": "markdown",
   "metadata": {},
   "source": [
    "## Get set up"
   ]
  },
  {
   "cell_type": "code",
   "execution_count": 1,
   "metadata": {},
   "outputs": [
    {
     "name": "stdout",
     "output_type": "stream",
     "text": [
      "3.6.7 |Anaconda, Inc.| (default, Oct 28 2018, 19:44:12) [MSC v.1915 64 bit (AMD64)]\n"
     ]
    }
   ],
   "source": [
    "# what environment are we using?\n",
    "import sys\n",
    "print(sys.version)"
   ]
  },
  {
   "cell_type": "code",
   "execution_count": 2,
   "metadata": {},
   "outputs": [
    {
     "name": "stderr",
     "output_type": "stream",
     "text": [
      "Using TensorFlow backend.\n"
     ]
    }
   ],
   "source": [
    "# load basic packages\n",
    "import numpy as np\n",
    "import pandas as pd\n",
    "# load the textgenrnn library\n",
    "from textgenrnn import textgenrnn"
   ]
  },
  {
   "cell_type": "code",
   "execution_count": 3,
   "metadata": {},
   "outputs": [],
   "source": [
    "# load the pre-trained network\n",
    "# from mthe textgenrnn library\n",
    "textgen = textgenrnn()"
   ]
  },
  {
   "cell_type": "code",
   "execution_count": 4,
   "metadata": {},
   "outputs": [],
   "source": [
    "# specify the directory where the band name data file is stored\n",
    "in_dir = 'C:\\\\Directory\\\\'"
   ]
  },
  {
   "cell_type": "markdown",
   "metadata": {},
   "source": [
    "## Update weights from pre-trained network with the band names directly from the data file"
   ]
  },
  {
   "cell_type": "code",
   "execution_count": 5,
   "metadata": {},
   "outputs": [
    {
     "name": "stdout",
     "output_type": "stream",
     "text": [
      "8,651 texts collected.\n",
      "Training on 112,107 character sequences.\n",
      "Epoch 1/5\n",
      "875/875 [==============================] - 311s 356ms/step - loss: 2.3412\n",
      "####################\n",
      "Temperature: 0.2\n",
      "####################\n",
      "the steve carde\n",
      "\n",
      "the steve brothers\n",
      "\n",
      "the shappened steve sterson\n",
      "\n",
      "####################\n",
      "Temperature: 0.5\n",
      "####################\n",
      "chur\n",
      "\n",
      "down charges\n",
      "\n",
      "sear stander\n",
      "\n",
      "####################\n",
      "Temperature: 1.0\n",
      "####################\n",
      "pald & bury mandel of tones\n",
      "\n",
      "goddiela\n",
      "\n",
      "the losistworken\n",
      "\n",
      "Epoch 2/5\n",
      "875/875 [==============================] - 297s 339ms/step - loss: 2.1291\n",
      "####################\n",
      "Temperature: 0.2\n",
      "####################\n",
      "the brothers\n",
      "\n",
      "jack brother\n",
      "\n",
      "the brothers\n",
      "\n",
      "####################\n",
      "Temperature: 0.5\n",
      "####################\n",
      "party white\n",
      "\n",
      "no war\n",
      "\n",
      "ferrean bulle\n",
      "\n",
      "####################\n",
      "Temperature: 1.0\n",
      "####################\n",
      "bob andle\n",
      "\n",
      "smugh buddy\n",
      "\n",
      "the rby hundey sunces\n",
      "\n",
      "Epoch 3/5\n",
      "875/875 [==============================] - 304s 347ms/step - loss: 2.0138\n",
      "####################\n",
      "Temperature: 0.2\n",
      "####################\n",
      "carl singer\n",
      "\n",
      "the courts\n",
      "\n",
      "the future candits\n",
      "\n",
      "####################\n",
      "Temperature: 0.5\n",
      "####################\n",
      "marcal bath\n",
      "\n",
      "lee and the high\n",
      "\n",
      "dead band\n",
      "\n",
      "####################\n",
      "Temperature: 1.0\n",
      "####################\n",
      "nister\n",
      "\n",
      "stylls kenpencelo\n",
      "\n",
      "iol lam\n",
      "\n",
      "Epoch 4/5\n",
      "875/875 [==============================] - 303s 346ms/step - loss: 1.9192\n",
      "####################\n",
      "Temperature: 0.2\n",
      "####################\n",
      "the party of the singles\n",
      "\n",
      "steve bear\n",
      "\n",
      "the dead steve marks\n",
      "\n",
      "####################\n",
      "Temperature: 0.5\n",
      "####################\n",
      "dep star village\n",
      "\n",
      "franker desolation\n",
      "\n",
      "sand of youth\n",
      "\n",
      "####################\n",
      "Temperature: 1.0\n",
      "####################\n",
      "iceby\n",
      "\n",
      "vilt and the party hourouse\n",
      "\n",
      "judolmomiano oh\n",
      "\n",
      "Epoch 5/5\n",
      "875/875 [==============================] - 286s 327ms/step - loss: 1.8363\n",
      "####################\n",
      "Temperature: 0.2\n",
      "####################\n",
      "daniel death\n",
      "\n",
      "charles and the band\n",
      "\n",
      "the boys\n",
      "\n",
      "####################\n",
      "Temperature: 0.5\n",
      "####################\n",
      "future city\n",
      "\n",
      "cast sunstander\n",
      "\n",
      "royal weapon\n",
      "\n",
      "####################\n",
      "Temperature: 1.0\n",
      "####################\n",
      "art of bluessio\n",
      "\n",
      "la lilos\n",
      "\n",
      "mories\n",
      "\n",
      "Wall time: 25min 6s\n"
     ]
    }
   ],
   "source": [
    "%time textgen.train_from_file(in_dir + 'pitchfork_artists.txt', is_csv = True, num_epochs=5)"
   ]
  },
  {
   "cell_type": "code",
   "execution_count": 6,
   "metadata": {},
   "outputs": [],
   "source": [
    "# save out the model\n",
    "# textgen.save(in_dir + 'rnn_model_band_names.hdf5')"
   ]
  },
  {
   "cell_type": "markdown",
   "metadata": {},
   "source": [
    "## Generate band names at temperature of .20"
   ]
  },
  {
   "cell_type": "code",
   "execution_count": 7,
   "metadata": {},
   "outputs": [],
   "source": [
    "# generate 5000 names at a temperature of .20\n",
    "# the names are returned as a list\n",
    "epoch_5_temp_20 = textgen.generate(n=5000, temperature=0.20, \n",
    "                                   return_as_list=True)\n",
    "# remove the names present in the original data\n",
    "# first, load the original artist names\n",
    "orig_artist = pd.read_csv(in_dir + 'pitchfork_artists.txt', \n",
    "                          header=None)[0].tolist()\n",
    "# remove rnn-generated names that are repeats of original names\n",
    "dl_artists_5_20 = [x for x in epoch_5_temp_20 if x not in orig_artist]\n",
    "# remove any duplicates in the rnn-generated band names\n",
    "dl_artists_5_20 = list(set(dl_artists_5_20))"
   ]
  },
  {
   "cell_type": "code",
   "execution_count": 8,
   "metadata": {},
   "outputs": [
    {
     "data": {
      "text/plain": [
       "['mark steven',\n",
       " 'the beautiful moore',\n",
       " 'the stars and the sound',\n",
       " 'steve rebel',\n",
       " 'the legendary',\n",
       " 'steve marrine',\n",
       " 'the stars constice',\n",
       " 'robert beach',\n",
       " 'maria boys',\n",
       " 'the waller brothers',\n",
       " 'the stars sound',\n",
       " 'dead collective',\n",
       " 'the daniel space',\n",
       " 'ben karal',\n",
       " 'black mark man',\n",
       " 'the stars constine',\n",
       " 'the sam sand',\n",
       " 'daniel suns',\n",
       " 'the love of the states',\n",
       " 'the body money']"
      ]
     },
     "execution_count": 8,
     "metadata": {},
     "output_type": "execute_result"
    }
   ],
   "source": [
    "# inspect the first 20 names\n",
    "dl_artists_5_20[0:20]"
   ]
  },
  {
   "cell_type": "code",
   "execution_count": 9,
   "metadata": {},
   "outputs": [],
   "source": [
    "# make df\n",
    "dl_artists_5_20_df = pd.DataFrame(dl_artists_5_20, columns=[\"band_names\"])\n",
    "# save to csv\n",
    "dl_artists_5_20_df.to_csv(in_dir + 'dl_artists_5_20_df.csv', index=False)"
   ]
  },
  {
   "cell_type": "code",
   "execution_count": 10,
   "metadata": {},
   "outputs": [
    {
     "data": {
      "text/plain": [
       "the          2170\n",
       "of            416\n",
       "stars         371\n",
       "beautiful     188\n",
       "band          185\n",
       "and           166\n",
       "black         162\n",
       "states        156\n",
       "dead          128\n",
       "sound         119\n",
       "mark          116\n",
       "steve         109\n",
       "party          91\n",
       "charles        91\n",
       "steven         87\n",
       "bears          72\n",
       "sunset         71\n",
       "sun            67\n",
       "star           65\n",
       "martin         65\n",
       "dtype: int64"
      ]
     },
     "execution_count": 10,
     "metadata": {},
     "output_type": "execute_result"
    }
   ],
   "source": [
    "# count of frequent words in generated names \n",
    "dl_artists_5_20_df.band_names.str.split(expand=True).stack().value_counts()[0:20]"
   ]
  },
  {
   "cell_type": "markdown",
   "metadata": {},
   "source": [
    "## Generate band names at temperature of .50"
   ]
  },
  {
   "cell_type": "code",
   "execution_count": 11,
   "metadata": {},
   "outputs": [],
   "source": [
    "epoch_5_temp_50 = textgen.generate(n=5000, temperature=0.50, return_as_list=True)\n",
    "dl_artists_5_50 = [x for x in epoch_5_temp_50 if x not in orig_artist]\n",
    "dl_artists_5_50 = list(set(dl_artists_5_50))"
   ]
  },
  {
   "cell_type": "code",
   "execution_count": 12,
   "metadata": {},
   "outputs": [
    {
     "data": {
      "text/plain": [
       "['richard harmonies',\n",
       " 'mentolical',\n",
       " 'dream social',\n",
       " 'red the portal and the orchestra',\n",
       " 'sung plan',\n",
       " 'the chapped program',\n",
       " 'beat eminst',\n",
       " 'brother richers',\n",
       " 'the legendary',\n",
       " 'chris christ',\n",
       " 'bones of bear',\n",
       " 'infinite jewen',\n",
       " 'man grimes',\n",
       " 'leave sounds',\n",
       " 'the league planet',\n",
       " 'mark wax',\n",
       " 'mings',\n",
       " 'alex and delt',\n",
       " 'fight and magic gods',\n",
       " 'the waller boys']"
      ]
     },
     "execution_count": 12,
     "metadata": {},
     "output_type": "execute_result"
    }
   ],
   "source": [
    "# inspect the first 20 names\n",
    "dl_artists_5_50[0:20]"
   ]
  },
  {
   "cell_type": "code",
   "execution_count": 13,
   "metadata": {},
   "outputs": [],
   "source": [
    "# make df\n",
    "dl_artists_5_50_df = pd.DataFrame(dl_artists_5_50, columns=[\"band_names\"])\n",
    "# save to csv\n",
    "dl_artists_5_50_df.to_csv(in_dir + 'dl_artists_5_50_df.csv', index=False)"
   ]
  },
  {
   "cell_type": "code",
   "execution_count": 14,
   "metadata": {},
   "outputs": [
    {
     "data": {
      "text/plain": [
       "the         1802\n",
       "of           271\n",
       "and          238\n",
       "band         181\n",
       "black        156\n",
       "mark         118\n",
       "dead         111\n",
       "steve         86\n",
       "boys          83\n",
       "brothers      68\n",
       "david         67\n",
       "sound         66\n",
       "martin        64\n",
       "stars         63\n",
       "party         61\n",
       "death         59\n",
       "daniel        59\n",
       "charles       54\n",
       "man           50\n",
       "sam           48\n",
       "dtype: int64"
      ]
     },
     "execution_count": 14,
     "metadata": {},
     "output_type": "execute_result"
    }
   ],
   "source": [
    "# count of frequent words in generated names \n",
    "dl_artists_5_50_df.band_names.str.split(expand=True).stack().value_counts()[0:20]"
   ]
  },
  {
   "cell_type": "markdown",
   "metadata": {},
   "source": [
    "## Generate band names at temperature of 1.0"
   ]
  },
  {
   "cell_type": "code",
   "execution_count": 15,
   "metadata": {},
   "outputs": [],
   "source": [
    "epoch_5_temp_100 = textgen.generate(n=5000, temperature= 1.0 , return_as_list=True)\n",
    "dl_artists_5_100 = [x for x in epoch_5_temp_100 if x not in orig_artist]\n",
    "dl_artists_5_100 = list(set(dl_artists_5_100))"
   ]
  },
  {
   "cell_type": "code",
   "execution_count": 16,
   "metadata": {},
   "outputs": [
    {
     "data": {
      "text/plain": [
       "['jfead on escare',\n",
       " 'emey gorillar',\n",
       " 'the feiled villagies',\n",
       " 'iron angels',\n",
       " 'shinoche',\n",
       " 'the quartet',\n",
       " 'mails',\n",
       " 'stadia j mehman',\n",
       " 'sleet chris',\n",
       " 'hose and the david haowers',\n",
       " 'jullas people',\n",
       " 'the matt music',\n",
       " 'black haowes',\n",
       " 'black vega',\n",
       " 'temple orchestra',\n",
       " 'animalsky',\n",
       " 'sickty prinds',\n",
       " 'tuckfriendlax & jongo durk',\n",
       " 'deehdargwest!',\n",
       " 'the dereir gromman']"
      ]
     },
     "execution_count": 16,
     "metadata": {},
     "output_type": "execute_result"
    }
   ],
   "source": [
    "# inspect the first 20 names\n",
    "dl_artists_5_100[0:20]"
   ]
  },
  {
   "cell_type": "code",
   "execution_count": 17,
   "metadata": {},
   "outputs": [],
   "source": [
    "# make df\n",
    "dl_artists_5_100_df = pd.DataFrame(dl_artists_5_100, columns=[\"band_names\"])\n",
    "# save to csv\n",
    "dl_artists_5_100_df.to_csv(in_dir + 'dl_artists_5_100_df.csv', index=False)"
   ]
  },
  {
   "cell_type": "code",
   "execution_count": 18,
   "metadata": {},
   "outputs": [
    {
     "data": {
      "text/plain": [
       "the      510\n",
       "and      104\n",
       "of        87\n",
       "&         78\n",
       "black     36\n",
       "dj        32\n",
       "young     26\n",
       "david     26\n",
       "peter     23\n",
       "a         22\n",
       "on        21\n",
       "band      20\n",
       "john      20\n",
       "big       20\n",
       "white     19\n",
       "in        19\n",
       "for       17\n",
       "tom       15\n",
       "to        15\n",
       "boys      15\n",
       "dtype: int64"
      ]
     },
     "execution_count": 18,
     "metadata": {},
     "output_type": "execute_result"
    }
   ],
   "source": [
    "# count of frequent words in generated names \n",
    "dl_artists_5_100_df.band_names.str.split(expand=True).stack().value_counts()[0:20]"
   ]
  },
  {
   "cell_type": "markdown",
   "metadata": {},
   "source": [
    "## Generate band names with prefix \"the\""
   ]
  },
  {
   "cell_type": "code",
   "execution_count": 20,
   "metadata": {},
   "outputs": [],
   "source": [
    "# generate the names\n",
    "name_prefix_the_raw_50 = textgen.generate(n=100, temperature= .50, return_as_list=True, prefix = 'the')\n",
    "# remove those in the original data\n",
    "name_prefix_the_50 = [x for x in name_prefix_the_raw_50 if x not in orig_artist]"
   ]
  },
  {
   "cell_type": "code",
   "execution_count": 21,
   "metadata": {},
   "outputs": [
    {
     "data": {
      "text/plain": [
       "['the holly night',\n",
       " 'the black singers',\n",
       " 'the bells',\n",
       " 'the wall brothers',\n",
       " 'the forever',\n",
       " 'the world traved orchestra',\n",
       " 'the hall bears',\n",
       " 'the magic cold',\n",
       " 'the weeks',\n",
       " 'the amp bells',\n",
       " 'the dreams',\n",
       " 'the death priests',\n",
       " 'the pearls',\n",
       " 'the wilders of the rebott',\n",
       " 'the money harrels',\n",
       " 'the space',\n",
       " 'the sun band',\n",
       " 'the silver experiences',\n",
       " 'the sea motion',\n",
       " 'the brothers and the machine trios']"
      ]
     },
     "execution_count": 21,
     "metadata": {},
     "output_type": "execute_result"
    }
   ],
   "source": [
    "# inspect the first 20 names\n",
    "name_prefix_the_50[0:20]"
   ]
  },
  {
   "cell_type": "code",
   "execution_count": 22,
   "metadata": {},
   "outputs": [],
   "source": [
    "# make df\n",
    "name_prefix_the_50_df = pd.DataFrame(name_prefix_the_50, columns=[\"prefix_the\"])\n",
    "# save to csv\n",
    "name_prefix_the_50_df.to_csv(in_dir + 'name_prefix_the_50_df.csv', index=False)"
   ]
  },
  {
   "cell_type": "markdown",
   "metadata": {},
   "source": [
    "## Generate band names with prefix \"dj\""
   ]
  },
  {
   "cell_type": "code",
   "execution_count": 25,
   "metadata": {},
   "outputs": [],
   "source": [
    "# generate the names\n",
    "name_prefix_dj_raw_50 = textgen.generate(n=100, temperature= 1.0, return_as_list=True, prefix = 'dj')\n",
    "# remove those in the original data\n",
    "name_prefix_dj_50 = [x for x in name_prefix_dj_raw_50 if x not in orig_artist]"
   ]
  },
  {
   "cell_type": "code",
   "execution_count": 26,
   "metadata": {},
   "outputs": [
    {
     "data": {
      "text/plain": [
       "['dj state',\n",
       " 'dj boredl',\n",
       " 'dj japant',\n",
       " 'dj paniful cold & wheels',\n",
       " 'dj jeff lion',\n",
       " 'dj lightniphen',\n",
       " 'dj and eternale',\n",
       " 'dj stilliums',\n",
       " 'dj knali',\n",
       " 'dj six',\n",
       " 'dj amido',\n",
       " 'dj pipee',\n",
       " 'dj/2',\n",
       " 'dj triz',\n",
       " 'dj pond',\n",
       " 'dj corp',\n",
       " 'dj mine comet bounce',\n",
       " 'dj band',\n",
       " 'dj attack',\n",
       " 'dj grang']"
      ]
     },
     "execution_count": 26,
     "metadata": {},
     "output_type": "execute_result"
    }
   ],
   "source": [
    "# inspect the first 20 names\n",
    "name_prefix_dj_50[0:20]"
   ]
  },
  {
   "cell_type": "code",
   "execution_count": 27,
   "metadata": {},
   "outputs": [],
   "source": [
    "# make df\n",
    "name_prefix_dj_50_df = pd.DataFrame(name_prefix_dj_50, columns=[\"prefix_dj\"])\n",
    "# save to csv\n",
    "name_prefix_dj_50_df.to_csv(in_dir + 'name_prefix_dj_50_df.csv', index=False)"
   ]
  }
 ],
 "metadata": {
  "kernelspec": {
   "display_name": "Python [conda env:py36]",
   "language": "python",
   "name": "conda-env-py36-py"
  },
  "language_info": {
   "codemirror_mode": {
    "name": "ipython",
    "version": 3
   },
   "file_extension": ".py",
   "mimetype": "text/x-python",
   "name": "python",
   "nbconvert_exporter": "python",
   "pygments_lexer": "ipython3",
   "version": "3.6.7"
  }
 },
 "nbformat": 4,
 "nbformat_minor": 2
}
